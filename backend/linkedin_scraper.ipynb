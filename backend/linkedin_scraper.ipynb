{
 "cells": [
  {
   "cell_type": "code",
   "execution_count": 1,
   "metadata": {},
   "outputs": [],
   "source": [
    "from linkedin_scraper import Person, actions\n",
    "from selenium import webdriver\n",
    "from dotenv import dotenv_values\n",
    "config = dotenv_values(\".env\")\n",
    "LI_PASSWORD = config['LI_PASSWORD']\n",
    "LI_EMAIL = 'linyangrun@gmail.com'\n",
    "\n",
    "driver = webdriver.Chrome()\n",
    "actions.login(driver, LI_EMAIL, LI_PASSWORD)"
   ]
  },
  {
   "cell_type": "code",
   "execution_count": 2,
   "metadata": {},
   "outputs": [],
   "source": [
    "harry_stebbings = Person(\"https://www.linkedin.com/in/harrystebbings/\", driver = driver, close_on_complete=False )"
   ]
  },
  {
   "cell_type": "code",
   "execution_count": 3,
   "metadata": {},
   "outputs": [
    {
     "data": {
      "text/plain": [
       "<Person Harry Stebbings\n",
       "2nd degree connection\n",
       "2nd\n",
       "\n",
       "About\n",
       "Harry is the Founder of 20VC. Our mission is to leverage our media company to build products that allow us to be the best investors in the world. \n",
       "\n",
       "*DO NOT SEND INVITES UNLESS THERE IS A SPECIFIC REASON FOR THE INVITE, STATED IN THE INVITATION!\n",
       "Harry is the Founder of 20VC. Our mission is to leverage our media company to build products that allow us to be the best investors in the world. *DO NOT SEND INVITES UNLESS THERE IS A SPECIFIC REASON FOR THE INVITE, STATED IN THE INVITATION!\n",
       "\n",
       "Experience\n",
       "[Experience(institution_name='20VC · Full-time', linkedin_url='https://www.linkedin.com/company/74364633/', website=None, industry=None, type=None, headquarters=None, company_size=None, founded=None, from_date='Dec 2014', to_date='Present', description='Building the next great financial institution at the intersection of venture capital and media. 20VC raised $140M across two separate vehicles from some of the most renowned limited partners in venture including MIT, Harvard, Sequoia Heritage, and RIT Capital Partners. Early breakout investments include BeReal, Sorare, Linktree, Nex Health, Merge API, Linear, TheyDo.io, and many more.\\nBuilding the next great financial institution at the intersection of venture capital and media. 20VC raised $140M across two separate vehicles from some of the most renowned limited partners in venture including MIT, Harvard, Sequoia Heritage, and RIT Capital Partners. Early breakout investments include BeReal, Sorare, Linktree, Nex Health, Merge API, Linear, TheyDo.io, and many more.\\nThe Twenty Minute VC\\nThe Twenty Minute VC\\nA podcast dedicated to interviewing the most prominent VCs, to delve inside the funding industry. All in an easily digestible 20 minutes.\\nA podcast dedicated to interviewing the most prominent VCs, to delve inside the funding industry. All in an easily digestible 20 minutes.', position_title='Founder', duration='8 yrs 10 mos', location='London, United Kingdom'), Experience(institution_name='Stride.VC', linkedin_url='https://www.linkedin.com/company/18803132/', website=None, industry=None, type=None, headquarters=None, company_size=None, founded=None, from_date='May 2017', to_date='Present', description='Seed stage fund, UK focused. First close £40M+. Fundraising + investing.\\n\\nWhat we are about: We’re easy to approach but tough to get money from. We favour prototypes over powerpoints. We write meaningful cheques at the stage it really matters. We respect the journey and embrace the chaos. We’re hands on where it really counts and keep our distance when the time is right. We ensure that every board meeting is a whiteboard meeting. This is our passion, our purpose and our craft.\\nSeed stage fund, UK focused. First close £40M+. Fundraising + investing. What we are about: We’re easy to approach but tough to get money from. We favour prototypes over powerpoints. We write meaningful cheques at the stage it really matters. We respect the journey and embrace the chaos. We’re hands on where it really counts and keep our distance when the time is right. We ensure that every board meeting is a whiteboard meeting. This is our passion, our purpose and our craft.\\nStride.VC, a new seed fund founded by Fred Destin and Harry Stebbings, sees first £40M closing\\nStride.VC, a new seed fund founded by Fred Destin and Harry Stebbings, sees first £40M closing\\nWe already knew that veteran venture capitalist Fred Destin had teamed up with podcaster-turned-VC Harry Stebbings to raise a fund of their own, but now more details have emerged, including that the new VC firm has reportedly achieved its first closing.', position_title='Founder', duration='6 yrs 5 mos', location='London, United Kingdom'), Experience(institution_name='Making Solutions', linkedin_url='https://www.linkedin.com/search/results/all/?keywords=Making+Solutions', website=None, industry=None, type=None, headquarters=None, company_size=None, founded=None, from_date='Sep 2011', to_date='Present', description='Making Solutions is a non profit organisation which raises funds and awareness for Multiple Sclerosis. Our first product is a fashion bracelet, which has been the fastest selling product in the charities history.\\nMaking Solutions is a non profit organisation which raises funds and awareness for Multiple Sclerosis. Our first product is a fashion bracelet, which has been the fastest selling product in the charities history.', position_title='Founder and CEO', duration='12 yrs 1 mo', location='London, United Kingdom'), Experience(institution_name='SEDNA Systems', linkedin_url='https://www.linkedin.com/company/18116403/', website=None, industry=None, type=None, headquarters=None, company_size=None, founded=None, from_date='Nov 2019', to_date='Apr 2021', description='', position_title='Board Member', duration='1 yr 6 mos', location='London, England, United Kingdom')]\n",
       "\n",
       "Education\n",
       "[Education(institution_name='Felsted School', linkedin_url=None, website=None, industry=None, type=None, headquarters=None, company_size=None, founded=None, from_date='2009 -', to_date='', description='', degree='English, History, Economics'), Education(institution_name='Northcote Lodge', linkedin_url=None, website=None, industry=None, type=None, headquarters=None, company_size=None, founded=None, from_date=None, to_date=None, description='', degree='2004 - 2008'), Education(institution_name='Fulham Prep School', linkedin_url=None, website=None, industry=None, type=None, headquarters=None, company_size=None, founded=None, from_date=None, to_date=None, description='', degree='2000 - 2004'), Education(institution_name=\"King's College London\", linkedin_url='https://www.linkedin.com/company/7198/', website=None, industry=None, type=None, headquarters=None, company_size=None, founded=None, from_date=None, to_date=None, description='', degree='Bachelor’s Degree, Law'), Education(institution_name='Mander Portman Woodward', linkedin_url=None, website=None, industry=None, type=None, headquarters=None, company_size=None, founded=None, from_date=None, to_date=None, description='', degree='NA'), Education(institution_name='Mander Portman Woodward', linkedin_url=None, website=None, industry=None, type=None, headquarters=None, company_size=None, founded=None, from_date=None, to_date=None, description='', degree='NA')]\n",
       "\n",
       "Interest\n",
       "[]\n",
       "\n",
       "Accomplishments\n",
       "[]\n",
       "\n",
       "Contacts\n",
       "[Contact(name='Diogenes Casares', occupation='Investor', url='https://www.linkedin.com/in/diogenes-casares-aa3381130/'), Contact(name='Reese Wong', occupation='Founder 🚀 | World Economic Forum Global Shaper and Vice Curator | President of LSE Entrepreneurs | International Speaker (60+ talks) | Future Minds 25 Under 25 | Fellow of the RSA', url='https://www.linkedin.com/in/reesewong1/'), Contact(name='Vansh Goel', occupation='LSE Management | Innvois VC', url='https://www.linkedin.com/in/vansh-goel/'), Contact(name='Glen (Geonwoo) Lee', occupation='LSE BSc Math and Econ', url='https://www.linkedin.com/in/glen-geonwoo-lee-67b034225/'), Contact(name='Sakthisolai S', occupation='Graduate of Raffles Institution', url='https://www.linkedin.com/in/sakthisolai-s/'), Contact(name='Chuyang Lu', occupation='Oxford E&M’26', url='https://www.linkedin.com/in/chuyanglu/'), Contact(name='Paul Johnson', occupation='Student at The London School of Economics and Political Science (LSE)', url='https://www.linkedin.com/in/paul-johnson-859643266/'), Contact(name='Yashwanth Naidu', occupation='Penultimate Year Economics Student at LSE', url='https://www.linkedin.com/in/yashwanth-naidu/'), Contact(name='Pietro Villani', occupation='Investment Banking at PWP | MSc Finance LSE | ESCP', url='https://www.linkedin.com/in/pietro-villani-374459159/'), Contact(name='Shiv Shah', occupation='AutogenAI | Economics at LSE', url='https://www.linkedin.com/in/shivdshah/'), Contact(name='Abigail Choo', occupation='Portfolio Associate', url='https://www.linkedin.com/in/abigail-c-7741a8140/'), Contact(name='Alton Cheah', occupation='Student at Nanyang Technological University', url='https://www.linkedin.com/in/alton-cheah-6b6232216/'), Contact(name='Antonia Böckers', occupation='Goldman Sachs | LSE | HEC | TUM', url='https://www.linkedin.com/in/antonia-b%C3%B6ckers-b6918012a/'), Contact(name='Elena (Yimei) Wang', occupation='J.P. Morgan Markets Analyst | LSE Financial Math & Statistics', url='https://www.linkedin.com/in/ym-wang/'), Contact(name='Shuvayu Dasgupta', occupation='Venture Fellow at Sie Ventures', url='https://www.linkedin.com/in/shuvayudasgupta/'), Contact(name='Amr Ali', occupation='The MD who fell in love with Crypto', url='https://www.linkedin.com/in/amr-ali-32aba9197/'), Contact(name='Kester Wu', occupation='ByteTrade Lab', url='https://www.linkedin.com/in/kester-wu-2a755b15a/'), Contact(name='michael .', occupation='trader', url='https://www.linkedin.com/in/yhbr6jo/'), Contact(name='Victor Dublin', occupation='Brevan Howard Trade Analyst | LSE Financial Mathematics & Statistics', url='https://www.linkedin.com/in/victor-dublin-144148205/'), Contact(name='Stephen Newnham', occupation='UK Lead for Solana by Day / CEO of BOO DAO by Night', url='https://www.linkedin.com/in/stephen-newnham/'), Contact(name='Bruno Braizinha', occupation='IR Strategy at Bank of America Merrill Lynch', url='https://www.linkedin.com/in/bruno-braizinha-0978326/'), Contact(name='Francisco Oliveira', occupation='Global Co-Head of Global Macro & Global Credit at BNP Paribas', url='https://www.linkedin.com/in/franciscooliveira2/'), Contact(name='Jason Goldsmith', occupation='Brevan Howard - Trading Analyst', url='https://www.linkedin.com/in/jason-goldsmith/'), Contact(name='Sam Abrahams', occupation='Incoming Summer Intern at Brevan Howard | First Year Economics | Corporate Finance and Equity Fund Analyst at NEFS', url='https://www.linkedin.com/in/sam-abrahams/'), Contact(name='Alexandre Noel', occupation='Oneliner Wizard', url='https://www.linkedin.com/in/alexandre-noel-666503251/'), Contact(name='Bryan Cheng', occupation='Software Engineer @ SolanaFM', url='https://www.linkedin.com/in/bchengjw/'), Contact(name='Nicolas Anguita', occupation='Maths and Computer Science @ Imperial College London', url='https://www.linkedin.com/in/nicolas-anguita/'), Contact(name='Pantelis Giannoulis', occupation='Economist | Meticulous Researcher | National & Kapodistrian University of Athens | National School of Public Administration & Local Goverment | Head of Economic & Commercial Affairs Office, Embassy of Greece in Bucharest', url='https://www.linkedin.com/in/pantelis-giannoulis-39185a29/'), Contact(name='Tim Williams', occupation='Head of Business Development - Europe at Brevan Howard', url='https://www.linkedin.com/in/timwilliams5/'), Contact(name='Tej Johar', occupation='Portfolio Manager at Trium Capital', url='https://www.linkedin.com/in/tej-johar-16799688/'), Contact(name='Sumayya Manji', occupation='LSE Financial Maths and Statistics', url='https://www.linkedin.com/in/sumayya-manji/'), Contact(name='Kacper Brzezniak', occupation='Portfolio Manager', url='https://www.linkedin.com/in/kacper-brzezniak-9262b2216/'), Contact(name='Andi Afezolli, CFA', occupation='Portfolio Manager, Long/Short Equities - Insight Investment', url='https://www.linkedin.com/in/andi-afezolli/'), Contact(name='Admin TCEN', occupation='Welcome to join The Chinese Economists Network (TCEN)', url='https://www.linkedin.com/in/admin-tcen-197186206/'), Contact(name='Lawrence Ong', occupation='CEO at Qonova Labs | $100mil Web3 Exec at MELD | TEDx Speaker', url='https://www.linkedin.com/in/lawrence-ong1/'), Contact(name='Laeticia Junanto', occupation='Global Markets Graduate Analyst at UBS', url='https://www.linkedin.com/in/laeticia-junanto-5811b1196/'), Contact(name='Ayo Olukotun', occupation='Global Markets Graduate Analyst at UBS', url='https://www.linkedin.com/in/ayo-oluwa-olukotun/'), Contact(name='Charlotte Pearson', occupation='Interest Rate Derivatives Trader at UBS', url='https://www.linkedin.com/in/charlotte-pearson-5a4679113/'), Contact(name='Kim Crawford, CFA', occupation='Portfolio Manager, J.P. Morgan Asset Management', url='https://www.linkedin.com/in/kim-crawford-cfa-94a2a876/'), Contact(name='Harrison Knowles', occupation='FX Options Quant at UBS', url='https://www.linkedin.com/in/harrisonjamesknowles/')]>"
      ]
     },
     "execution_count": 3,
     "metadata": {},
     "output_type": "execute_result"
    }
   ],
   "source": [
    "harry_stebbings"
   ]
  },
  {
   "cell_type": "code",
   "execution_count": null,
   "metadata": {},
   "outputs": [],
   "source": []
  },
  {
   "cell_type": "code",
   "execution_count": null,
   "metadata": {},
   "outputs": [],
   "source": []
  }
 ],
 "metadata": {
  "kernelspec": {
   "display_name": "linkedin_scraper",
   "language": "python",
   "name": "python3"
  },
  "language_info": {
   "codemirror_mode": {
    "name": "ipython",
    "version": 3
   },
   "file_extension": ".py",
   "mimetype": "text/x-python",
   "name": "python",
   "nbconvert_exporter": "python",
   "pygments_lexer": "ipython3",
   "version": "3.11.5"
  },
  "orig_nbformat": 4
 },
 "nbformat": 4,
 "nbformat_minor": 2
}
